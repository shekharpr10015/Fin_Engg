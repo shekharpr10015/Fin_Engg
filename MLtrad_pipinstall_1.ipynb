{
  "nbformat": 4,
  "nbformat_minor": 0,
  "metadata": {
    "colab": {
      "provenance": [],
      "authorship_tag": "ABX9TyMSKd7ob5DGHFOg17ZeKZ9Q",
      "include_colab_link": true
    },
    "kernelspec": {
      "name": "python3",
      "display_name": "Python 3"
    },
    "language_info": {
      "name": "python"
    }
  },
  "cells": [
    {
      "cell_type": "markdown",
      "metadata": {
        "id": "view-in-github",
        "colab_type": "text"
      },
      "source": [
        "<a href=\"https://colab.research.google.com/github/shekharpr10015/Fin_Engg/blob/main/MLtrad_pipinstall_1.ipynb\" target=\"_parent\"><img src=\"https://colab.research.google.com/assets/colab-badge.svg\" alt=\"Open In Colab\"/></a>"
      ]
    },
    {
      "cell_type": "code",
      "execution_count": 5,
      "metadata": {
        "id": "Wtg9q6zXwTTR"
      },
      "outputs": [],
      "source": [
        "def dependencies():\n",
        "  !pip install ipywidgets==7.7.1\n",
        "  !pip install matplotlib==3.5.2\n",
        "  #!pip install scipy==1.8.1  orig line from instructor's code\n",
        "  !pip install scipy==1.7.3\n",
        "  !pip install yfinance\n",
        "  !pip install pandas-datareader==0.10.0\n",
        "  !pip install python-binance==1.0.16\n",
        "  !pip install kneed==0.7.0\n",
        "  !pip install hmmlearn==0.2.7\n",
        "  !pip install pyhhmm==2.0.1\n",
        "  !pip install ta==0.10.1"
      ]
    }
  ]
}